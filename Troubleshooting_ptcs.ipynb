{
 "cells": [
  {
   "cell_type": "code",
   "execution_count": 1,
   "metadata": {
    "collapsed": false
   },
   "outputs": [
    {
     "data": {
      "text/plain": [
       "\n",
       "Attaching package: ‘dplyr’\n",
       "\n",
       "The following object is masked from ‘package:stats’:\n",
       "\n",
       "    filter\n",
       "\n",
       "The following objects are masked from ‘package:base’:\n",
       "\n",
       "    intersect, setdiff, setequal, union\n",
       "\n"
      ]
     },
     "metadata": {},
     "output_type": "display_data"
    },
    {
     "data": {
      "text/plain": [
       "<StrVector - Python:0x10a3cc830 / R:0x1008f9bf0>\n",
       "[str, str, str, ..., str, str, str]"
      ]
     },
     "execution_count": 1,
     "metadata": {},
     "output_type": "execute_result"
    }
   ],
   "source": [
    "%load_ext rpy2.ipython\n",
    "%R library(dplyr); library(magrittr);library(ggplot2)"
   ]
  },
  {
   "cell_type": "code",
   "execution_count": 2,
   "metadata": {
    "collapsed": true
   },
   "outputs": [],
   "source": [
    "%%R\n",
    "\n",
    "format_codon_m<-function(codonm, codonw){\n",
    "    codon_w<-read.table(codonw, header=TRUE, sep=\"\\t\", na.strings=\"*****\")\n",
    "    codonm<-codonm%>%scan%>%matrix(ncol=61, byrow=T)\n",
    "    rownames(codonm)<-codon_w$title\n",
    "    ccn<-read.table(\"./scripts/codonR/codonm_colnames.txt\", sep=\"\\t\")\n",
    "    colnames(codonm)<-ccn$V2\n",
    "    return(codonm)\n",
    "}\n",
    "\n",
    "gptr<-function(codonlist, gene){\n",
    "        anti<-read.table(\"anti_codon_table.txt\", header=TRUE, sep=\"\\t\")%>%filter(exact==1)\n",
    "        codon_prop=vector()    \n",
    "        codons_tested=vector()\n",
    "        gene$codon<-rownames(gene)\n",
    "        colnames(gene)[1]<-\"count\"\n",
    "        merge(anti, gene, by=\"codon\")->gene\n",
    "        gene%>%filter(exact==1)%>%group_by(aa)%>%summarise(aa_count=sum(count))->aa_sum\n",
    "\n",
    "        for (codon in codonlist){\n",
    "            if (codon %in% gene$codon) {\n",
    "            codons_tested=c(codons_tested, codon)\n",
    "            a=gene$aa[which(codon==gene$codon)]\n",
    "            n=gene$count[which(codon==gene$codon)]     #the number of exact match codons in the gene\n",
    "            total=aa_sum$aa_count[which(a==aa_sum$aa)] #the total number of codons for the specific amino acid\n",
    "            codon_prop=c(codon_prop, n/total)\n",
    "        }}\n",
    "        return(cbind.data.frame(codons_tested, codon_prop))\n",
    "      }\n",
    "\n",
    "Gptr<-function(codonlist, codonm){\n",
    "    anti<-read.table(\"anti_codon_table.txt\", header=TRUE, sep=\"\\t\")%>%filter(exact==1)\n",
    "    genome_codon_prop=vector()\n",
    "    codons_tested=vector()\n",
    "    genome<-data.frame(colSums(codonm))\n",
    "    genome$codon<-rownames(genome)\n",
    "    colnames(genome)[1]<-\"count\"\n",
    "\n",
    "    merge(anti, genome, by=\"codon\")->genome\n",
    "\n",
    "    genome%>%group_by(aa)%>%summarise(aa_count=sum(count))->genome_aa_sum\n",
    "\n",
    "    for (codon in codonlist){\n",
    "        if (codon %in% genome$codon){\n",
    "        codons_tested=c(codons_tested, codon)\n",
    "        a=genome$aa[which(codon==genome$codon)]\n",
    "        n=genome$count[which(codon==genome$codon)]     #the number of exact match codons in the gene\n",
    "        total=genome_aa_sum$aa_count[which(a==genome_aa_sum$aa)] #the total number of codons for the specific amino acid\n",
    "        genome_codon_prop=c(genome_codon_prop, n/total)\n",
    "        }}\n",
    "        output<-cbind.data.frame(codons_tested, genome_codon_prop)\n",
    "        return(output)\n",
    "        }\n"
   ]
  },
  {
   "cell_type": "code",
   "execution_count": 53,
   "metadata": {
    "collapsed": false
   },
   "outputs": [
    {
     "data": {
      "text/plain": [
       "Read 408273 items\n",
       "                          TTT TTC TTA TTG TCT TCC TCA TCG TAT TAC TGT TGC TGG\n",
       "MSMEI_0001                  1  21   0   4   1   2   1  15   1   8   0   1   5\n",
       "MSMEI_0002                  5   5   0   0   3   4   7   6   1   3   5   2   1\n",
       "MSMEI_0003                  1  13   0   5   0   9   0   7   2   3   0   1   2\n",
       "MSMEI_0004                  0   8   0   6   0   2   0  10   0   8   0   0   5\n",
       "MSMEI_0005                  2   6   0   5   1   2   1  11   3   5   0   2   5\n",
       "MSMEI_0006                  0   1   0   1   0   1   1   5   0   2   0   0   5\n",
       "                          CTT CTC CTA CTG CCT CCC CCA CCG CAT CAC CAA CAG CGT\n",
       "MSMEI_0001                  1  18   0  22   0  10   1  19   0   8   2  16   9\n",
       "MSMEI_0002                  1   3   0   5   2   4   2   6   2   9   4   2   2\n",
       "MSMEI_0003                  1  11   0  28   3   4   0  16   1   2   0   4   5\n",
       "MSMEI_0004                  0   7   1  11   0   3   0  12   2   7   1   5   3\n",
       "MSMEI_0005                  1  23   0  18   0   5   1  10   3   3   0   5  11\n",
       "MSMEI_0006                  0   4   1   7   0   7   0   7   1   2   2   5   2\n",
       "                          CGC CGA CGG ATT ATC ATA ATG ACT ACC ACA ACG AAT AAC\n",
       "MSMEI_0001                 25   0   9   1  30   0   7   2  16   0  15   0  18\n",
       "MSMEI_0002                  6   5   6   3   4   0   3   1   7   2   6   1   4\n",
       "MSMEI_0003                 14   0   5   0  13   0   3   0  18   1  16   0   3\n",
       "MSMEI_0004                  5   1   5   0  16   0   9   0   7   0   2   0   6\n",
       "MSMEI_0005                 19   1  10   1   8   1   3   1   9   0   5   1   4\n",
       "MSMEI_0006                 15   1   3   0   5   0   1   0   7   0   6   0   2\n",
       "                          AAA AAG AGT AGC AGA AGG GTT GTC GTA GTG GCT GCC GCA\n",
       "MSMEI_0001                  2  18   0   9   0   2   3  16   0  13   2  25   1\n",
       "MSMEI_0002                  1   0   1   4   1   4   3   5   0   3   5   6   3\n",
       "MSMEI_0003                  0  12   0   9   0   0   2  13   1  23   3  25   4\n",
       "MSMEI_0004                  0   8   2   6   0   1   0  11   1  13   2  18   3\n",
       "MSMEI_0005                  3   4   3   5   0   3   3  12   1  21   2  22   7\n",
       "MSMEI_0006                  1   4   0   3   1   1   1   8   0   9   1   9   2\n",
       "                          GCG GAT GAC GAA GAG GGT GGC GGA GGG\n",
       "MSMEI_0001                 24   9  30   7  31   4  12   2   4\n",
       "MSMEI_0002                  7   6   2   6   5   2   2   6   0\n",
       "MSMEI_0003                 23   8  18   3  24  11  18   3   5\n",
       "MSMEI_0004                 10   3  13   9  15  14  22   2   1\n",
       "MSMEI_0005                 22   8  21   8  23   6  12   4   7\n",
       "MSMEI_0006                 11   5   9   2   5   5  14   2   6\n"
      ]
     },
     "metadata": {},
     "output_type": "display_data"
    }
   ],
   "source": [
    "%%R\n",
    "format_codon_m(\"./data/svm1/Msmeg155.m\",\"./data/svm1/Msmeg155.w\")->codonm\n",
    "#read.table(\"./data/svm1/problematic_msmeg_genes.txt\")->probs\n",
    "#codonm$gene<-rownames(codonm)\n",
    "head(codonm)"
   ]
  },
  {
   "cell_type": "code",
   "execution_count": 54,
   "metadata": {
    "collapsed": false
   },
   "outputs": [
    {
     "data": {
      "text/plain": [
       " [1] TGG AAC GCG CAG CCA TTC ATG CGT CAC TGC CTA AAG ATC GGA GTA ACT ??? GAC GAG\n",
       "19 Levels: ??? AAC AAG ACT ATC ATG CAC CAG CCA CGT CTA GAC GAG GCG GGA ... TTC\n"
      ]
     },
     "metadata": {},
     "output_type": "display_data"
    }
   ],
   "source": [
    "%%R\n",
    "problemcodonm<-codonm[probs$V1,]\n",
    "head(problemcodonm)\n",
    "codonlist<-read.table(paste(\"./data/svm1/JF937105.1.trna\",sep=\"\"), skip=3, header=FALSE,sep=\"\\t\")\n",
    "codonlist$V6%>%unique->codonlist\n",
    "codonlist"
   ]
  },
  {
   "cell_type": "code",
   "execution_count": 62,
   "metadata": {
    "collapsed": false
   },
   "outputs": [
    {
     "data": {
      "text/plain": [
       "   codons_tested codon_prop\n",
       "1            TGG 1.00000000\n",
       "2            AAC 1.00000000\n",
       "3            GCG 0.46153846\n",
       "4            CAG 0.88888889\n",
       "5            CCA 0.03333333\n",
       "6            TTC 0.95454545\n",
       "7            ATG 1.00000000\n",
       "8            CGT 0.20000000\n",
       "9            CAC 1.00000000\n",
       "10           TGC 1.00000000\n",
       "11           CTA 0.00000000\n",
       "12           AAG 0.90000000\n",
       "13           ATC 0.96774194\n",
       "14           GGA 0.09090909\n",
       "15           GTA 0.00000000\n",
       "16           ACT 0.06060606\n",
       "17           GAC 0.76923077\n",
       "18           GAG 0.81578947\n",
       "   codons_tested genome_codon_prop\n",
       "1            TGG        1.00000000\n",
       "2            AAC        0.88624543\n",
       "3            GCG        0.41698645\n",
       "4            CAG        0.85958644\n",
       "5            CCA        0.05523552\n",
       "6            TTC        0.94891924\n",
       "7            ATG        1.00000000\n",
       "8            CGT        0.12613940\n",
       "9            CAC        0.81353284\n",
       "10           TGC        0.80738462\n",
       "11           CTA        0.01022377\n",
       "12           AAG        0.81953815\n",
       "13           ATC        0.93658688\n",
       "14           GGA        0.09857182\n",
       "15           GTA        0.02641860\n",
       "16           ACT        0.02955328\n",
       "17           GAC        0.80178845\n",
       "18           GAG        0.70708141\n"
      ]
     },
     "metadata": {},
     "output_type": "display_data"
    }
   ],
   "source": [
    "%%R\n",
    "\n",
    "print(Gene_rep)\n",
    "print(Genome_rep)"
   ]
  },
  {
   "cell_type": "code",
   "execution_count": 69,
   "metadata": {
    "collapsed": false
   },
   "outputs": [
    {
     "data": {
      "text/plain": [
       "[1] 1\n",
       "   codons_tested codon_prop\n",
       "1            TGG 1.00000000\n",
       "2            AAC 1.00000000\n",
       "3            GCG 0.46153846\n",
       "4            CAG 0.88888889\n",
       "5            CCA 0.03333333\n",
       "6            TTC 0.95454545\n",
       "7            ATG 1.00000000\n",
       "8            CGT 0.20000000\n",
       "9            CAC 1.00000000\n",
       "10           TGC 1.00000000\n",
       "11           CTA 0.00000000\n",
       "12           AAG 0.90000000\n",
       "13           ATC 0.96774194\n",
       "14           GGA 0.09090909\n",
       "15           GTA 0.00000000\n",
       "16           ACT 0.06060606\n",
       "17           GAC 0.76923077\n",
       "18           GAG 0.81578947\n",
       "[1] 2\n",
       "   codons_tested codon_prop\n",
       "1            TGG 1.00000000\n",
       "2            AAC 0.80000000\n",
       "3            GCG 0.33333333\n",
       "4            CAG 0.33333333\n",
       "5            CCA 0.14285714\n",
       "6            TTC 0.50000000\n",
       "7            ATG 1.00000000\n",
       "8            CGT 0.08333333\n",
       "9            CAC 0.81818182\n",
       "10           TGC 0.28571429\n",
       "11           CTA 0.00000000\n",
       "12           AAG 0.00000000\n",
       "13           ATC 0.57142857\n",
       "14           GGA 0.60000000\n",
       "15           GTA 0.00000000\n",
       "16           ACT 0.06250000\n",
       "17           GAC 0.25000000\n",
       "18           GAG 0.45454545\n",
       "[1] 3\n",
       "   codons_tested codon_prop\n",
       "1            TGG 1.00000000\n",
       "2            AAC 1.00000000\n",
       "3            GCG 0.41818182\n",
       "4            CAG 1.00000000\n",
       "5            CCA 0.00000000\n",
       "6            TTC 0.92857143\n",
       "7            ATG 1.00000000\n",
       "8            CGT 0.20833333\n",
       "9            CAC 0.66666667\n",
       "10           TGC 1.00000000\n",
       "11           CTA 0.00000000\n",
       "12           AAG 1.00000000\n",
       "13           ATC 1.00000000\n",
       "14           GGA 0.08108108\n",
       "15           GTA 0.02564103\n",
       "16           ACT 0.00000000\n",
       "17           GAC 0.69230769\n",
       "18           GAG 0.88888889\n",
       "[1] 4\n",
       "   codons_tested codon_prop\n",
       "1            TGG 1.00000000\n",
       "2            AAC 1.00000000\n",
       "3            GCG 0.30303030\n",
       "4            CAG 0.83333333\n",
       "5            CCA 0.00000000\n",
       "6            TTC 1.00000000\n",
       "7            ATG 1.00000000\n",
       "8            CGT 0.20000000\n",
       "9            CAC 0.77777778\n",
       "10           TGC        NaN\n",
       "11           CTA 0.04000000\n",
       "12           AAG 1.00000000\n",
       "13           ATC 1.00000000\n",
       "14           GGA 0.05128205\n",
       "15           GTA 0.04000000\n",
       "16           ACT 0.00000000\n",
       "17           GAC 0.81250000\n",
       "18           GAG 0.62500000\n",
       "[1] 5\n",
       "   codons_tested codon_prop\n",
       "1            TGG 1.00000000\n",
       "2            AAC 0.80000000\n",
       "3            GCG 0.41509434\n",
       "4            CAG 1.00000000\n",
       "5            CCA 0.06250000\n",
       "6            TTC 0.75000000\n",
       "7            ATG 1.00000000\n",
       "8            CGT 0.25000000\n",
       "9            CAC 0.50000000\n",
       "10           TGC 1.00000000\n",
       "11           CTA 0.00000000\n",
       "12           AAG 0.57142857\n",
       "13           ATC 0.80000000\n",
       "14           GGA 0.13793103\n",
       "15           GTA 0.02702703\n",
       "16           ACT 0.06666667\n",
       "17           GAC 0.72413793\n",
       "18           GAG 0.74193548\n",
       "[1] 6\n",
       "   codons_tested codon_prop\n",
       "1            TGG 1.00000000\n",
       "2            AAC 1.00000000\n",
       "3            GCG 0.47826087\n",
       "4            CAG 0.71428571\n",
       "5            CCA 0.00000000\n",
       "6            TTC 1.00000000\n",
       "7            ATG 1.00000000\n",
       "8            CGT 0.08695652\n",
       "9            CAC 0.66666667\n",
       "10           TGC        NaN\n",
       "11           CTA 0.07692308\n",
       "12           AAG 0.80000000\n",
       "13           ATC 1.00000000\n",
       "14           GGA 0.07407407\n",
       "15           GTA 0.00000000\n",
       "16           ACT 0.00000000\n",
       "17           GAC 0.64285714\n",
       "18           GAG 0.71428571\n",
       "[1] 7\n",
       "   codons_tested codon_prop\n",
       "1            TGG 1.00000000\n",
       "2            AAC 0.95238095\n",
       "3            GCG 0.53125000\n",
       "4            CAG 1.00000000\n",
       "5            CCA 0.00000000\n",
       "6            TTC 1.00000000\n",
       "7            ATG 1.00000000\n",
       "8            CGT 0.26829268\n",
       "9            CAC 0.72222222\n",
       "10           TGC 1.00000000\n",
       "11           CTA 0.00000000\n",
       "12           AAG 0.87234043\n",
       "13           ATC 0.97222222\n",
       "14           GGA 0.00000000\n",
       "15           GTA 0.00000000\n",
       "16           ACT 0.02222222\n",
       "17           GAC 0.75510204\n",
       "18           GAG 0.83333333\n",
       "[1] 8\n",
       "   codons_tested codon_prop\n",
       "1            TGG 1.00000000\n",
       "2            AAC 0.92307692\n",
       "3            GCG 0.43037975\n",
       "4            CAG 0.97058824\n",
       "5            CCA 0.03225806\n",
       "6            TTC 1.00000000\n",
       "7            ATG 1.00000000\n",
       "8            CGT 0.16216216\n",
       "9            CAC 0.92857143\n",
       "10           TGC 1.00000000\n",
       "11           CTA 0.00000000\n",
       "12           AAG 0.83870968\n",
       "13           ATC 0.96428571\n",
       "14           GGA 0.06250000\n",
       "15           GTA 0.00000000\n",
       "16           ACT 0.06382979\n",
       "17           GAC 0.85507246\n",
       "18           GAG 0.83606557\n",
       "[1] 9\n",
       "   codons_tested codon_prop\n",
       "1            TGG 1.00000000\n",
       "2            AAC 0.87500000\n",
       "3            GCG 0.52173913\n",
       "4            CAG 0.90909091\n",
       "5            CCA 0.00000000\n",
       "6            TTC 1.00000000\n",
       "7            ATG 1.00000000\n",
       "8            CGT 0.05000000\n",
       "9            CAC 0.50000000\n",
       "10           TGC        NaN\n",
       "11           CTA 0.00000000\n",
       "12           AAG 1.00000000\n",
       "13           ATC 1.00000000\n",
       "14           GGA 0.10000000\n",
       "15           GTA 0.04347826\n",
       "16           ACT 0.00000000\n",
       "17           GAC 0.58333333\n",
       "18           GAG 0.80000000\n",
       "[1] 10\n",
       "   codons_tested codon_prop\n",
       "1            TGG        1.0\n",
       "2            AAC        NaN\n",
       "3            GCG        0.4\n",
       "4            CAG        0.5\n",
       "5            CCA        NaN\n",
       "6            TTC        0.0\n",
       "7            ATG        NaN\n",
       "8            CGT        0.0\n",
       "9            CAC        0.5\n",
       "10           TGC        NaN\n",
       "11           CTA        0.0\n",
       "12           AAG        NaN\n",
       "13           ATC        1.0\n",
       "14           GGA        0.0\n",
       "15           GTA        0.0\n",
       "16           ACT        NaN\n",
       "17           GAC        NaN\n",
       "18           GAG        1.0\n"
      ]
     },
     "metadata": {},
     "output_type": "display_data"
    }
   ],
   "source": [
    "%%R\n",
    "for (i in seq(1,10)){\n",
    "gptr(codonlist, data.frame(problemcodonm[i,]))->Gene_rep\n",
    "    print(i)\n",
    "    print(Gene_rep)\n",
    "#Gptr(codonlist, data.frame(codonm))->Genome_rep\n",
    "#Together<-merge(Genome_rep, Gene_rep, by=\"codons_tested\")%>%mutate(pig=codon_prop/genome_codon_prop)\n",
    "#ptcs<-mean(na.omit(Together$pig))\n",
    "#print(Together)\n",
    "#print(ptcs)\n",
    "    }"
   ]
  },
  {
   "cell_type": "code",
   "execution_count": 70,
   "metadata": {
    "collapsed": false
   },
   "outputs": [
    {
     "data": {
      "text/plain": [
       "TTT TTC TTA TTG TCT TCC TCA TCG TAT TAC TGT TGC TGG CTT CTC CTA CTG CCT CCC CCA \n",
       "  0   8   0   6   0   2   0  10   0   8   0   0   5   0   7   1  11   0   3   0 \n",
       "CCG CAT CAC CAA CAG CGT CGC CGA CGG ATT ATC ATA ATG ACT ACC ACA ACG AAT AAC AAA \n",
       " 12   2   7   1   5   3   5   1   5   0  16   0   9   0   7   0   2   0   6   0 \n",
       "AAG AGT AGC AGA AGG GTT GTC GTA GTG GCT GCC GCA GCG GAT GAC GAA GAG GGT GGC GGA \n",
       "  8   2   6   0   1   0  11   1  13   2  18   3  10   3  13   9  15  14  22   2 \n",
       "GGG \n",
       "  1 \n"
      ]
     },
     "metadata": {},
     "output_type": "display_data"
    }
   ],
   "source": [
    "%%R\n",
    "problemcodonm[4,]"
   ]
  },
  {
   "cell_type": "code",
   "execution_count": 72,
   "metadata": {
    "collapsed": false
   },
   "outputs": [
    {
     "data": {
      "text/plain": [
       "[1] 5\n",
       "[1] 1\n",
       "[1] 6\n",
       "[1] 1\n",
       "[1] 33\n",
       "[1] 0.3030303\n",
       "[1] 6\n",
       "[1] 0.8333333\n",
       "[1] 15\n",
       "[1] 0\n",
       "[1] 8\n",
       "[1] 1\n",
       "[1] 9\n",
       "[1] 1\n",
       "[1] 15\n",
       "[1] 0.2\n",
       "[1] 9\n",
       "[1] 0.7777778\n",
       "[1] 0\n",
       "[1] NaN\n",
       "[1] 25\n",
       "[1] 0.04\n",
       "[1] 8\n",
       "[1] 1\n",
       "[1] 16\n",
       "[1] 1\n",
       "[1] 39\n",
       "[1] 0.05128205\n",
       "[1] 25\n",
       "[1] 0.04\n",
       "[1] 9\n",
       "[1] 0\n",
       "[1] 16\n",
       "[1] 0.8125\n",
       "[1] 24\n",
       "[1] 0.625\n"
      ]
     },
     "metadata": {},
     "output_type": "display_data"
    }
   ],
   "source": [
    "%%R\n",
    "gene<-data.frame(problemcodonm[4,])\n",
    "anti<-read.table(\"anti_codon_table.txt\", header=TRUE, sep=\"\\t\")%>%filter(exact==1)\n",
    "codon_prop=vector()    \n",
    "codons_tested=vector()\n",
    "gene$codon<-rownames(gene)\n",
    "colnames(gene)[1]<-\"count\"\n",
    "merge(anti, gene, by=\"codon\")->gene\n",
    "gene%>%filter(exact==1)%>%group_by(aa)%>%summarise(aa_count=sum(count))->aa_sum\n",
    "\n",
    "for (codon in codonlist){\n",
    "    if (codon %in% gene$codon) {\n",
    "    codons_tested=c(codons_tested, codon)\n",
    "    a=gene$aa[which(codon==gene$codon)]\n",
    "    n=gene$count[which(codon==gene$codon)]     #the number of exact match codons in the gene\n",
    "    total=aa_sum$aa_count[which(a==aa_sum$aa)] #the total number of codons for the specific amino acid\n",
    "    print(total)\n",
    "    print(n/total)\n",
    "    codon_prop=c(codon_prop, n/total)\n",
    "}}"
   ]
  },
  {
   "cell_type": "code",
   "execution_count": null,
   "metadata": {
    "collapsed": true
   },
   "outputs": [],
   "source": []
  }
 ],
 "metadata": {
  "kernelspec": {
   "display_name": "Python 2",
   "language": "python",
   "name": "python2"
  },
  "language_info": {
   "codemirror_mode": {
    "name": "ipython",
    "version": 2
   },
   "file_extension": ".py",
   "mimetype": "text/x-python",
   "name": "python",
   "nbconvert_exporter": "python",
   "pygments_lexer": "ipython2",
   "version": "2.7.10"
  }
 },
 "nbformat": 4,
 "nbformat_minor": 0
}
