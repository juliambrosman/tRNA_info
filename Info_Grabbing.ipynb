{
 "cells": [
  {
   "cell_type": "code",
   "execution_count": 2,
   "metadata": {
    "collapsed": true
   },
   "outputs": [],
   "source": [
    "from Bio import SeqIO"
   ]
  },
  {
   "cell_type": "code",
   "execution_count": 10,
   "metadata": {
    "collapsed": false
   },
   "outputs": [
    {
     "name": "stdout",
     "output_type": "stream",
     "text": [
      "2533\n"
     ]
    }
   ],
   "source": [
    "\n",
    "\n",
    "out=open(\"Syn7803_CDS_table.txt\",\"w\")\n",
    "out.write(\"title\\tproduct\\n\")\n",
    "\n",
    "handle=SeqIO.parse(\"./data/svm1/Syn7803.gb\",\"genbank\")\n",
    "count=0\n",
    "for g in handle:\n",
    "    for feature in g.features:\n",
    "        if feature.type==\"CDS\":\n",
    "            count=count+1\n",
    "            \n",
    "            feature_name=feature.qualifiers[\"locus_tag\"][0]\n",
    "            \n",
    "            if \"product\" in feature.qualifiers.keys():\n",
    "                feature_product=feature.qualifiers[\"product\"][0]\n",
    "            else:\n",
    "                feature_product=\"unannotated\"\n",
    "            out.write(feature_name+\"\\t\"+feature_product+\"\\n\")\n",
    "\n",
    "out.close()\n",
    "print(count)"
   ]
  },
  {
   "cell_type": "code",
   "execution_count": 1,
   "metadata": {
    "collapsed": false
   },
   "outputs": [
    {
     "name": "stdout",
     "output_type": "stream",
     "text": [
      "6693\n"
     ]
    }
   ],
   "source": [
    "from Bio import SeqIO\n",
    "\n",
    "def extract_cds_annotations(gbfile, ouputfile):\n",
    "    out=open(outputfile,\"w\")\n",
    "    out.write(\"title\\tproduct\\n\")\n",
    "\n",
    "    handle=SeqIO.parse(gbfile,\"genbank\")\n",
    "    count=0\n",
    "    for g in handle:\n",
    "        for feature in g.features:\n",
    "            if feature.type==\"CDS\":\n",
    "                count=count+1\n",
    "\n",
    "                feature_name=feature.qualifiers[\"locus_tag\"][0]\n",
    "\n",
    "                if \"product\" in feature.qualifiers.keys():\n",
    "                    feature_product=feature.qualifiers[\"product\"][0]\n",
    "                else:\n",
    "                    feature_product=\"unannotated\"\n",
    "                out.write(feature_name+\"\\t\"+feature_product+\"\\n\")\n",
    "\n",
    "    out.close()\n",
    "    print(str(count)+\" annotated features in \"+gbfile)"
   ]
  },
  {
   "cell_type": "code",
   "execution_count": 2,
   "metadata": {
    "collapsed": false
   },
   "outputs": [],
   "source": [
    "!open Msmeg_CDS_table.txt -a textedit"
   ]
  },
  {
   "cell_type": "code",
   "execution_count": 4,
   "metadata": {
    "collapsed": false
   },
   "outputs": [
    {
     "name": "stdout",
     "output_type": "stream",
     "text": [
      "Synechococcus sp. WH 7803\n"
     ]
    }
   ],
   "source": [
    "\n",
    "def extract_org_names(gbk):\n",
    "    handle=SeqIO.parse(gbk,\"genbank\")\n",
    "    count=0\n",
    "    for g in handle:\n",
    "        return g.annotations['source']\n",
    "    "
   ]
  },
  {
   "cell_type": "code",
   "execution_count": null,
   "metadata": {
    "collapsed": true
   },
   "outputs": [],
   "source": []
  }
 ],
 "metadata": {
  "kernelspec": {
   "display_name": "Python 2",
   "language": "python",
   "name": "python2"
  },
  "language_info": {
   "codemirror_mode": {
    "name": "ipython",
    "version": 2
   },
   "file_extension": ".py",
   "mimetype": "text/x-python",
   "name": "python",
   "nbconvert_exporter": "python",
   "pygments_lexer": "ipython2",
   "version": "2.7.10"
  }
 },
 "nbformat": 4,
 "nbformat_minor": 0
}
