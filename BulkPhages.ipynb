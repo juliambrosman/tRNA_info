{
 "cells": [
  {
   "cell_type": "code",
   "execution_count": 47,
   "metadata": {
    "collapsed": false
   },
   "outputs": [
    {
     "name": "stdout",
     "output_type": "stream",
     "text": [
      "KF582788.2 converted\n",
      "HQ630627.1 converted\n",
      "NC_024794.1 converted\n",
      "JX080304.2 converted\n",
      "JX080305.2 converted\n",
      "JX080303.2 converted\n",
      "JX080302.2 converted\n",
      "JX080301.2 converted\n",
      "JX080300.2 converted\n",
      "EU418428.2 converted\n",
      "NC_020083.1 converted\n",
      "NC_019398.1 converted\n",
      "NC_020080.1 converted\n",
      "NC_019505.1 converted\n",
      "NC_015457.1 converted\n",
      "NC_014595.1 converted\n",
      "KR014248.1 converted\n",
      "NC_027337.1 converted\n",
      "NC_004914.2 converted\n",
      "NC_023693.1 converted\n",
      "NC_019400.1 converted\n",
      "scanning phage KF582788.2 for tRNAs!\n",
      "scanning phage HQ630627.1 for tRNAs!\n",
      "scanning phage NC_024794.1 for tRNAs!\n",
      "scanning phage JX080304.2 for tRNAs!\n",
      "scanning phage JX080305.2 for tRNAs!\n",
      "scanning phage JX080303.2 for tRNAs!\n",
      "scanning phage JX080302.2 for tRNAs!\n",
      "scanning phage JX080301.2 for tRNAs!\n",
      "scanning phage JX080300.2 for tRNAs!\n",
      "scanning phage EU418428.2 for tRNAs!\n",
      "scanning phage NC_020083.1 for tRNAs!\n",
      "scanning phage NC_019398.1 for tRNAs!\n",
      "scanning phage NC_020080.1 for tRNAs!\n",
      "scanning phage NC_019505.1 for tRNAs!\n",
      "scanning phage NC_015457.1 for tRNAs!\n",
      "scanning phage NC_014595.1 for tRNAs!\n",
      "scanning phage KR014248.1 for tRNAs!\n",
      "scanning phage NC_027337.1 for tRNAs!\n",
      "scanning phage NC_004914.2 for tRNAs!\n",
      "scanning phage NC_023693.1 for tRNAs!\n",
      "scanning phage NC_019400.1 for tRNAs!\n",
      "there are a total of 31 phages but only 21 have tRNAs\n",
      "done!\n"
     ]
    }
   ],
   "source": [
    "from Bio import Entrez\n",
    "from Bio import SeqIO\n",
    "import re\n",
    "import os\n",
    "import subprocess\n",
    "\n",
    "keyword=\"phage.*[genome|genomic sequence|complete|!partial]\"\n",
    "accs=[]\n",
    "titles=[]\n",
    "acdict={}\n",
    "\n",
    "splist=open(\"../NCBI_phage_genome_search.txt\").readlines()\n",
    "for i in range(1,len(splist)/160,4):\n",
    "    if re.search(keyword, splist[i]):\n",
    "        name=splist[i].split(\",\")[0].split(\".\")[1]\n",
    "        name2=re.sub(r\"complete genome\\n|genomic sequence\\n|\\n\",\"\", name)\n",
    "        if name not in titles:\n",
    "            titles.append(name2)\n",
    "            acc=splist[i+2].split(\" \")[0]\n",
    "            accs.append(acc)\n",
    "            acdict[acc]=name2\n",
    "accs_str=\",\".join(accs)\n",
    "    \n",
    "\n",
    "os.mkdir(\"pgenomes\")\n",
    "Entrez.email=\"julia.brown@einstein.yu.edu\"\n",
    "for a in accs:\n",
    "    handle=Entrez.efetch(db=\"nucleotide\", id=str(a), rettype=\"gb\", retmode=\"text\")\n",
    "    filename=\"./pgenomes/\"+a+\".gbk\"\n",
    "    out=open(filename, \"w\")\n",
    "    out.write(handle.read())\n",
    "    out.close()\n",
    "    handle.close()\n",
    "    SeqIO.convert(\"./pgenomes/\"+a+\".gbk\",\"gb\",\"./pgenomes/\"+a+\".fasta\",\"fasta\")\n",
    "    print(a+\" converted\")\n",
    "\n",
    "\n",
    "\n",
    "from Bio.SeqUtils import GC\n",
    "\n",
    "out=open(\"phage.genome.info.txt\",\"w\")\n",
    "\n",
    "taxdict={}\n",
    "\n",
    "for phage in accs:\n",
    "    gbk=SeqIO.parse(\"./pgenomes/\"+phage+\".gbk\", \"genbank\")\n",
    "    for rec in gbk:\n",
    "        taxonomy=rec.annotations[\"taxonomy\"]\n",
    "        if len(taxonomy)>4:\n",
    "            tax=taxonomy[3]\n",
    "        else:\n",
    "            tax=taxonomy[-1]\n",
    "        taxdict[phage]=tax\n",
    "        gc_content=GC(rec.seq)\n",
    "        out.write(phage+\"\\t\"+acdict[phage]+\"\\t\"+tax+\"\\t\"+str(len(rec.seq))+\"\\t\"+str(gc_content)+\"\\n\")\n",
    "out.close()\n",
    "\n",
    "os.mkdir(\"./pgenomes/trna/\")\n",
    "\n",
    "args=[]\n",
    "for phage in accs:\n",
    "    args=(\"tRNAscan-SE -o ./pgenomes/trna/\"+phage+\".trnas.txt -G -D ./pgenomes/\"+phage+\".fasta\")\n",
    "    subprocess.call(args.split(\" \"))\n",
    "    print(\"scanning phage \"+ phage +\" for tRNAs!\")\n",
    "tRNA_phages=[]\n",
    "\n",
    "\n",
    "for n in accs:\n",
    "    tfile=\"./pgenomes/trna/\"+n+\".trnas.txt\"\n",
    "    if os.path.getsize(tfile)>0:\n",
    "        tRNA_phages.append(n)\n",
    "    \n",
    "print(\"there are a total of \"+str(len(accs))+\" phages but only \"+str(len(tRNA_phages))+\" have tRNAs\")\n",
    "\n",
    "out=open(\"phage_tRNA_summary.txt\",\"w\")\n",
    "out.write(\"phage_short\\tphage_full\\tbound1\\tbound2\\ttRNA\\tanti_codon\\tintron_bound1\\titron_bound2\\tscore\\n\")\n",
    "\n",
    "for phage in tRNA_phages:\n",
    "    info=open(\"./pgenomes/trna/\"+phage+\".trnas.txt\").readlines()\n",
    "    for line in info[3:]:\n",
    "        vec=line.split(\"\\t\")\n",
    "        out.write(acdict[phage]+\"\\t\"+vec[0]+\"\\t\"+vec[2]+\"\\t\"+vec[3]+\"\\t\"+vec[4]+\"\\t\"+vec[5]+\"\\t\"+vec[6]+\"\\t\"+vec[7]+\"\\t\"+vec[8])\n",
    "out.close()\n",
    "\n",
    "print(\"done!\")"
   ]
  },
  {
   "cell_type": "code",
   "execution_count": 68,
   "metadata": {
    "collapsed": false
   },
   "outputs": [
    {
     "data": {
      "text/plain": [
       "u'/Users/jmb/Desktop/ViralFate/tRNA_info'"
      ]
     },
     "execution_count": 68,
     "metadata": {},
     "output_type": "execute_result"
    }
   ],
   "source": [
    "pwd"
   ]
  },
  {
   "cell_type": "code",
   "execution_count": 67,
   "metadata": {
    "collapsed": false
   },
   "outputs": [
    {
     "name": "stdout",
     "output_type": "stream",
     "text": [
      "collect_trna_info.py                          100% 1177     1.2KB/s   00:00    \n",
      "NCBI_phage_genome_search.txt                  100%  560KB 559.7KB/s   00:00    \n"
     ]
    }
   ],
   "source": [
    "!scp collect_trna_info.py NCBI_phage_genome_search.txt jbrown@eofe5.mit.edu:/nobackup1/jbrown/tRNA/"
   ]
  },
  {
   "cell_type": "code",
   "execution_count": 65,
   "metadata": {
    "collapsed": false
   },
   "outputs": [
    {
     "name": "stdout",
     "output_type": "stream",
     "text": [
      "\r",
      "bulk_phage_trna_search.slurm                    0%    0     0.0KB/s   --:-- ETA\r",
      "bulk_phage_trna_search.slurm                  100%  205     0.2KB/s   00:00    \r\n"
     ]
    }
   ],
   "source": [
    "!scp bulk_phage_trna_search.slurm jbrown@eofe5.mit.edu:/nobackup1/jbrown/tRNA/"
   ]
  },
  {
   "cell_type": "code",
   "execution_count": 69,
   "metadata": {
    "collapsed": false
   },
   "outputs": [
    {
     "name": "stdout",
     "output_type": "stream",
     "text": [
      "phage_tRNA_summary.txt                        100%  434KB 434.3KB/s   00:00    \n"
     ]
    }
   ],
   "source": [
    "!scp jbrown@eofe5.mit.edu:/nobackup1/jbrown/tRNA/phage_tRNA_summary.txt ./bulk_phage_trna_summary.txt"
   ]
  },
  {
   "cell_type": "code",
   "execution_count": 73,
   "metadata": {
    "collapsed": false
   },
   "outputs": [
    {
     "name": "stdout",
     "output_type": "stream",
     "text": [
      "phage.genome.info.txt                         100%  229KB 228.7KB/s   00:00    \n"
     ]
    }
   ],
   "source": [
    "!scp jbrown@eofe4.mit.edu:/nobackup1/jbrown/tRNA/phage.genome.info.txt ./phage.genome.info.txt"
   ]
  },
  {
   "cell_type": "code",
   "execution_count": 20,
   "metadata": {
    "collapsed": false
   },
   "outputs": [],
   "source": [
    "import re\n",
    "\n",
    "from Bio import SeqIO\n",
    "\n",
    "\n",
    "os.chdir(\"/Users/jmb/Desktop/ViralFate/tRNA_info/\")"
   ]
  },
  {
   "cell_type": "code",
   "execution_count": 5,
   "metadata": {
    "collapsed": false
   },
   "outputs": [],
   "source": [
    "keyword=\"phage.*[genome|genomic sequence|complete|!partial]\"\n",
    "accs=[]\n",
    "titles=[]\n",
    "acdict={}\n",
    "\n",
    "splist=open(\"./data/NCBI_phage_genome_search.txt\").readlines()\n",
    "for i in range(1,len(splist),4):\n",
    "    if re.search(keyword, splist[i]):\n",
    "        name=splist[i].split(\",\")[0].split(\".\")[1]\n",
    "        name2=re.sub(r\"complete genome\\n|genomic sequence\\n|\\n\",\"\", name)\n",
    "        if name not in titles:\n",
    "            titles.append(name2)\n",
    "            acc=splist[i+2].split(\" \")[0]\n",
    "            accs.append(acc)\n",
    "            acdict[acc]=name2\n",
    "accs_str=\",\".join(accs)"
   ]
  },
  {
   "cell_type": "code",
   "execution_count": 54,
   "metadata": {
    "collapsed": false
   },
   "outputs": [],
   "source": [
    "out=open(\"large_acc_list.txt\",\"w\")\n",
    "out.write(accs_str)\n",
    "out.close()"
   ]
  },
  {
   "cell_type": "code",
   "execution_count": 58,
   "metadata": {
    "collapsed": false
   },
   "outputs": [
    {
     "name": "stdout",
     "output_type": "stream",
     "text": [
      "3144\n",
      "KF582788.2\tEscherichia phage vB_EcoM_JS09\t Isolation and characterization of a novel lytic T4-like coliphage vB_EcoM_JS09 infecting APEC\t \n",
      "\n",
      "HQ630627.1\tPseudomonas phage PhiPA3\t The Pseudomonas aeruginosa generalized transducing phage phiPA3 is a new member of the phiKZ-like group of 'jumbo' phages, and infects model laboratory strains and clinical isolates from cystic fibrosis patients\t 21163841\n",
      "\n",
      "NC_024794.1\tEscherichia phage vB_EcoM_PhAPEC2\t A cocktail of in vitro efficient phages is not a guarantee for in vivo therapeutic results against avian colibacillosis\t 24269008\n",
      "\n",
      "JX080304.2\tStaphylococcus phage MSA6\t Genomics of Staphylococcal Twort-like Phages - Potential Therapeutics of the Post-Antibiotic Era\t 22748811\n",
      "\n",
      "JX080305.2\tStaphylococcus phage P4W\t Genomics of Staphylococcal Twort-like Phages - Potential Therapeutics of the Post-Antibiotic Era\t 22748811\n",
      "\n",
      "JX080303.2\tStaphylococcus phage Fi200W\t Genomics of Staphylococcal Twort-like Phages - Potential Therapeutics of the Post-Antibiotic Era\t 22748811\n",
      "\n",
      "JX080302.2\tStaphylococcus phage 676Z\t Genomics of Staphylococcal Twort-like Phages - Potential Therapeutics of the Post-Antibiotic Era\t 22748811\n",
      "\n",
      "JX080301.2\tStaphylococcus phage A3R\t Genomics of Staphylococcal Twort-like Phages - Potential Therapeutics of the Post-Antibiotic Era\t 22748811\n",
      "\n",
      "JX080300.2\tStaphylococcus phage Staph1N\t Genomics of Staphylococcal Twort-like Phages - Potential Therapeutics of the Post-Antibiotic Era\t 22748811\n",
      "\n",
      "EU418428.2\tStaphylococcus phage A5W\t Structural and functional characterization of polyvalent Staphyloccocal bacteriophage A5W\t \n",
      "\n",
      "NC_020083.1\tSerratia phage phiMAM1\t Complete Genome Sequence of Serratia plymuthica Bacteriophage MAM1\t 23166269\n",
      "\n",
      "NC_019398.1\tCronobacter phage vB_CsaM_GAP161\t Complete Genome Sequence of Cronobacter sakazakii Bacteriophage vB_CsaM_GAP161\t 23166229\n",
      "\n",
      "NC_020080.1\tKlebsiella phage KP27\t Direct Submission\t \n",
      "\n",
      "NC_019505.1\tEscherichia phage wV7\t Escherichia coli O157:H7 Typing Phage V7 Is a T4-Like Virus\t 22923804\n",
      "\n",
      "NC_015457.1\tShigella phage Shfl2\t Therapeutic potential of Shigella phages isolated from Brazil\t \n",
      "\n",
      "NC_014595.1\tShigella phage SP18\t Phenotypic characterization and genomic analysis of the Shigella sonnei bacteriophage SP18\t 20437154\n",
      "\n",
      "KR014248.1\tEscherichia phage vB_EcoM_AYO145A\t Complete Genome Sequence of Escherichia coli O145:NM Bacteriophage vB_EcoM_AYO145A, a New Member of O1-Like Phages\t 26089406\n",
      "\n",
      "NC_027337.1\tEscherichia phage vB_EcoM-VpaE1\t Genome of Escherichia coli infecting bacteriophage vB_EcoM-VpaE1\t \n",
      "\n",
      "NC_004914.2\tStx2 converting phage II (Stx2 converting bacteriophage II)\t Genome analysis of a novel Shiga toxin 1 (Stx1)-converting phage which is closely related to Stx2-converting phages but not to other Stx1-converting phages\t 12813092\n",
      "\n",
      "NC_023693.1\tEnterobacteria phage phi92\t Phage pierces the host cell membrane with the iron-loaded spike\t 22325780\n",
      "\n",
      "NC_019400.1\tCronobacter phage vB_CsaM_GAP31\t Genome Sequence of Cronobacter sakazakii Myovirus vB_CsaM_GAP31\t 23166242\n",
      "\n"
     ]
    }
   ],
   "source": [
    "from Bio import SeqIO\n",
    "import re\n",
    "import os\n",
    "\n",
    "accs=open(\"large_acc_list.txt\").read().split(\",\")\n",
    "\n",
    "#out=open(\"phage_publication_info.txt\",\"w\")\n",
    "#out.write(\"acc_num\\tphage_name\\tref_title\\tpubmed_id\\n\")\n",
    "for phage in accs:\n",
    "    gbk_file=\"./test/pgenomes/\"+phage+\".gbk\"\n",
    "    if os.path.exists(gbk_file):\n",
    "        gbk=SeqIO.parse(gbk_file, \"genbank\")\n",
    "        for rec in gbk:\n",
    "            ref_title=str(rec.annotations['references'][0]).split(\"\\n\")\n",
    "            for i in ref_title:\n",
    "                if i.startswith(\"title\"):\n",
    "                    TITLE=i\n",
    "                elif i.startswith(\"pubmed id:\"):\n",
    "                    ID=i\n",
    "            #out.write(phage+\"\\t\"+rec.annotations['source']+\"\\t\"+TITLE.replace(\"title:\",\"\")+\"\\t\"+ID.replace(\"pubmed id:\",\"\")+\"\\n\")\n",
    "#out.close()"
   ]
  },
  {
   "cell_type": "code",
   "execution_count": 23,
   "metadata": {
    "collapsed": false
   },
   "outputs": [
    {
     "name": "stdout",
     "output_type": "stream",
     "text": [
      "avian pathogenic Escherichia coli and genetically engineered Escherichia coli B and K strain\n",
      "Pseudomonas aeruginosa strain PAO1\n",
      "Escherichia coli***\n",
      "Staphylococcus aureus subsp. aureus strain ATCC 25923***\n",
      "Staphylococcus aureus strain 6409***\n",
      "Staphylococcus aureus strain 6409***\n",
      "Staphylococcus aureus strain Z11778***\n",
      "Staphylococcus aureus strain R19930***\n",
      "Staphylococcus aureus strain NCTC9789 (=PS80)***\n",
      "Staphylococcus aureus NCTC9789 (=PS80)\n",
      "Serratia sp.\n",
      "Cronobacter sakazakii\n",
      "Klebsiella pneumoniae\n",
      "Escherichia coli\n",
      "Shigella flexneri\n",
      "Shigella sonnei\n",
      "Escherichia coli O145:NM***\n",
      "Escherichia coli B strains\n",
      "Escherichia coli O157:H7\n",
      "Escherichia coli K92\n",
      "Cronobacter sakazakii\n"
     ]
    }
   ],
   "source": [
    "from Bio import SeqIO\n",
    "import re\n",
    "import os\n",
    "\n",
    "#out=open(\"phage_publication_info.txt\",\"w\")\n",
    "#out.write(\"acc_num\\tphage_name\\tref_title\\tpubmed_id\\n\")\n",
    "for phage in accs:\n",
    "    gbk_file=\"./data/test/pgenomes/\"+phage+\".gbk\"\n",
    "    if os.path.exists(gbk_file):\n",
    "        handle=SeqIO.parse(gbk_file, \"genbank\")\n",
    "        for g in handle:\n",
    "            for feature in g.features:\n",
    "                if feature.type==\"source\":\n",
    "                    if \"host\" in feature.qualifiers.keys():\n",
    "                        print(feature.qualifiers[\"host\"][0])\n",
    "                    elif \"lab_host\" in feature.qualifiers.keys():\n",
    "                        print(feature.qualifiers[\"lab_host\"][0]+\"***\")\n",
    "                    else:\n",
    "                        print(\"no host specified for \"+phage)"
   ]
  },
  {
   "cell_type": "code",
   "execution_count": 59,
   "metadata": {
    "collapsed": false
   },
   "outputs": [
    {
     "name": "stdout",
     "output_type": "stream",
     "text": [
      "\r",
      "large_acc_list.txt                              0%    0     0.0KB/s   --:-- ETA\r",
      "large_acc_list.txt                            100%   35KB  35.1KB/s   00:00    \r\n"
     ]
    }
   ],
   "source": [
    "!scp large_acc_list.txt jbrown@eofe5.mit.edu:/nobackup1/jbrown/tRNA/"
   ]
  },
  {
   "cell_type": "code",
   "execution_count": 60,
   "metadata": {
    "collapsed": false
   },
   "outputs": [
    {
     "name": "stdout",
     "output_type": "stream",
     "text": [
      "\r",
      "extract_pub_titles.py                           0%    0     0.0KB/s   --:-- ETA\r",
      "extract_pub_titles.py                         100%  763     0.8KB/s   00:00    \r\n"
     ]
    }
   ],
   "source": [
    "!scp extract_pub_titles.py jbrown@eofe5.mit.edu:/nobackup1/jbrown/tRNA/"
   ]
  },
  {
   "cell_type": "code",
   "execution_count": 62,
   "metadata": {
    "collapsed": false
   },
   "outputs": [
    {
     "name": "stdout",
     "output_type": "stream",
     "text": [
      "\r",
      "title_extract.slurm                             0%    0     0.0KB/s   --:-- ETA\r",
      "title_extract.slurm                           100%  169     0.2KB/s   00:00    \r\n"
     ]
    }
   ],
   "source": [
    "!scp title_extract.slurm jbrown@eofe5.mit.edu:/nobackup1/jbrown/tRNA/"
   ]
  },
  {
   "cell_type": "code",
   "execution_count": null,
   "metadata": {
    "collapsed": true
   },
   "outputs": [],
   "source": []
  }
 ],
 "metadata": {
  "kernelspec": {
   "display_name": "Python 2",
   "language": "python",
   "name": "python2"
  },
  "language_info": {
   "codemirror_mode": {
    "name": "ipython",
    "version": 2
   },
   "file_extension": ".py",
   "mimetype": "text/x-python",
   "name": "python",
   "nbconvert_exporter": "python",
   "pygments_lexer": "ipython2",
   "version": "2.7.10"
  }
 },
 "nbformat": 4,
 "nbformat_minor": 0
}
