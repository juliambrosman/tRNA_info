{
 "cells": [
  {
   "cell_type": "code",
   "execution_count": 8,
   "metadata": {
    "collapsed": false
   },
   "outputs": [
    {
     "ename": "AttributeError",
     "evalue": "'file' object has no attribute 'rstrip'",
     "output_type": "error",
     "traceback": [
      "\u001b[0;31m---------------------------------------------------------------------------\u001b[0m",
      "\u001b[0;31mAttributeError\u001b[0m                            Traceback (most recent call last)",
      "\u001b[0;32m<ipython-input-8-1cf0bb0593e4>\u001b[0m in \u001b[0;36m<module>\u001b[0;34m()\u001b[0m\n\u001b[1;32m      1\u001b[0m \u001b[0;31m#list of NCBI accession numbers extracted from the NCBI website for genomes of\u001b[0m\u001b[0;34m\u001b[0m\u001b[0;34m\u001b[0m\u001b[0m\n\u001b[0;32m----> 2\u001b[0;31m \u001b[0maccs\u001b[0m\u001b[0;34m=\u001b[0m\u001b[0mopen\u001b[0m\u001b[0;34m(\u001b[0m\u001b[0;34m\"./data/hosts/marine_host_genome_accs.txt\"\u001b[0m\u001b[0;34m)\u001b[0m\u001b[0;34m.\u001b[0m\u001b[0mrstrip\u001b[0m\u001b[0;34m(\u001b[0m\u001b[0;34m\"\\n\"\u001b[0m\u001b[0;34m)\u001b[0m\u001b[0;34m.\u001b[0m\u001b[0mreadlines\u001b[0m\u001b[0;34m(\u001b[0m\u001b[0;34m)\u001b[0m\u001b[0;34m\u001b[0m\u001b[0m\n\u001b[0m",
      "\u001b[0;31mAttributeError\u001b[0m: 'file' object has no attribute 'rstrip'"
     ]
    }
   ],
   "source": [
    "#list of NCBI accession numbers extracted from the NCBI website for genomes of \n",
    "accs=open(\"./data/hosts/marine_host_genome_accs.txt\").readlines()\n"
   ]
  },
  {
   "cell_type": "code",
   "execution_count": 20,
   "metadata": {
    "collapsed": false
   },
   "outputs": [
    {
     "name": "stdout",
     "output_type": "stream",
     "text": [
      "NC_007205.1 converted\n",
      "NC_015380.1 converted\n",
      "NC_005071.1 converted\n",
      "NC_005072.1 converted\n",
      "NC_007335.2 converted\n",
      "NC_009840.1 converted\n",
      "NZ_CP007754.1 converted\n",
      "NC_008819.1 converted\n",
      "CP000951.1 converted\n",
      "BX548020.1 converted\n",
      "NC_019702.1 converted\n",
      "NC_009481.1 converted\n",
      "NC_018632.1 converted\n",
      "NZ_CP010912.1 converted\n",
      "CP002339.1 converted\n"
     ]
    }
   ],
   "source": [
    "from Bio import Entrez\n",
    "from Bio import SeqIO\n",
    "import re\n",
    "import os\n",
    "import subprocess\n",
    "\n",
    "Entrez.email=\"julia.brown@einstein.yu.edu\"\n",
    "for a in accs:\n",
    "    a=a.replace(\"\\n\",\"\")\n",
    "    handle=Entrez.efetch(db=\"nucleotide\", id=str(a), rettype=\"gbwithparts\", retmode=\"text\")\n",
    "    filename=\"./data/hosts/\"+a+\".gbk\"\n",
    "    out=open(filename, \"w\")\n",
    "    out.write(handle.read())\n",
    "    out.close()\n",
    "    handle.close()\n",
    "    SeqIO.convert(\"./data/hosts/\"+a+\".gbk\",\"gb\",\"./data/hosts/\"+a+\".fasta\",\"fasta\")\n",
    "    print(a+\" converted\")"
   ]
  },
  {
   "cell_type": "code",
   "execution_count": 21,
   "metadata": {
    "collapsed": true
   },
   "outputs": [],
   "source": [
    "vibs=glob.glob(\"./data/hosts/*prod.gbk\")\n",
    "\n",
    "for v in vibs:\n",
    "    gbk_to_fasta(v, v.replace(\"_contigs_prod.gbk\",\".fasta\"))"
   ]
  },
  {
   "cell_type": "code",
   "execution_count": 22,
   "metadata": {
    "collapsed": false
   },
   "outputs": [
    {
     "name": "stdout",
     "output_type": "stream",
     "text": [
      "tRNA scan of ./data/hosts/10N.286.45.B12.fasta is done!\n",
      "tRNA scan of ./data/hosts/10N.286.45.B8.fasta is done!\n",
      "tRNA scan of ./data/hosts/10N.286.45.C3.fasta is done!\n",
      "tRNA scan of ./data/hosts/10N.286.45.E12.fasta is done!\n",
      "tRNA scan of ./data/hosts/10N.286.49.A5.fasta is done!\n",
      "tRNA scan of ./data/hosts/10N.286.52.F6.fasta is done!\n",
      "tRNA scan of ./data/hosts/10N.286.54.E11.fasta is done!\n",
      "tRNA scan of ./data/hosts/BX548020.1.fasta is done!\n",
      "tRNA scan of ./data/hosts/CP000951.1.fasta is done!\n",
      "tRNA scan of ./data/hosts/CP002339.1.fasta is done!\n",
      "tRNA scan of ./data/hosts/NC_005071.1.fasta is done!\n",
      "tRNA scan of ./data/hosts/NC_005072.1.fasta is done!\n",
      "tRNA scan of ./data/hosts/NC_007205.1.fasta is done!\n",
      "tRNA scan of ./data/hosts/NC_007335.2.fasta is done!\n",
      "tRNA scan of ./data/hosts/NC_008819.1.fasta is done!\n",
      "tRNA scan of ./data/hosts/NC_009481.1.fasta is done!\n",
      "tRNA scan of ./data/hosts/NC_009840.1.fasta is done!\n",
      "tRNA scan of ./data/hosts/NC_015380.1.fasta is done!\n",
      "tRNA scan of ./data/hosts/NC_018632.1.fasta is done!\n",
      "tRNA scan of ./data/hosts/NC_019702.1.fasta is done!\n",
      "tRNA scan of ./data/hosts/NZ_CP007754.1.fasta is done!\n",
      "tRNA scan of ./data/hosts/NZ_CP010912.1.fasta is done!\n"
     ]
    }
   ],
   "source": [
    "from tRNA_functions import *\n",
    "import glob\n",
    "\n",
    "fastas=glob.glob(\"./data/hosts/*.fasta\")\n",
    "\n",
    "for f in fastas:\n",
    "    run_trna_scan(f, f.replace(\".fasta\",\".trna\"))"
   ]
  },
  {
   "cell_type": "code",
   "execution_count": null,
   "metadata": {
    "collapsed": true
   },
   "outputs": [],
   "source": [
    "trna_files=glob.glob(\"./data/hosts/*.trna\")\n",
    "hosts="
   ]
  },
  {
   "cell_type": "code",
   "execution_count": 18,
   "metadata": {
    "collapsed": false
   },
   "outputs": [
    {
     "name": "stdout",
     "output_type": "stream",
     "text": [
      "total 111976\r\n",
      "-rw-r--r--  1 jmb  staff   2475057 Oct 13 15:58 BX548020.1.fasta\r\n",
      "-rw-r--r--  1 jmb  staff      1943 Oct 13 15:58 BX548020.1.gbk\r\n",
      "-rw-r--r--  1 jmb  staff         0 Oct 13 16:08 BX548020.1.trna\r\n",
      "-rw-r--r--  1 jmb  staff   3058239 Oct 13 15:58 CP000951.1.fasta\r\n",
      "-rw-r--r--  1 jmb  staff   6584977 Oct 13 15:58 CP000951.1.gbk\r\n",
      "-rw-r--r--  1 jmb  staff      2232 Oct 13 16:08 CP000951.1.trna\r\n",
      "-rw-r--r--  1 jmb  staff   5055068 Oct 13 15:58 CP002339.1.fasta\r\n",
      "-rw-r--r--  1 jmb  staff  10530990 Oct 13 15:58 CP002339.1.gbk\r\n",
      "-rw-r--r--  1 jmb  staff      3310 Oct 13 16:08 CP002339.1.trna\r\n",
      "-rw-r--r--  1 jmb  staff   2451117 Oct 13 15:57 NC_005071.1.fasta\r\n",
      "-rw-r--r--  1 jmb  staff      3904 Oct 13 15:57 NC_005071.1.gbk\r\n",
      "-rw-r--r--  1 jmb  staff         0 Oct 13 16:08 NC_005071.1.trna\r\n",
      "-rw-r--r--  1 jmb  staff   1685683 Oct 13 15:57 NC_005072.1.fasta\r\n",
      "-rw-r--r--  1 jmb  staff      3956 Oct 13 15:57 NC_005072.1.gbk\r\n",
      "-rw-r--r--  1 jmb  staff         0 Oct 13 16:09 NC_005072.1.trna\r\n",
      "-rw-r--r--  1 jmb  staff   1330643 Oct 13 15:57 NC_007205.1.fasta\r\n",
      "-rw-r--r--  1 jmb  staff      3766 Oct 13 15:57 NC_007205.1.gbk\r\n",
      "-rw-r--r--  1 jmb  staff         0 Oct 13 16:09 NC_007205.1.trna\r\n",
      "-rw-r--r--  1 jmb  staff   1873681 Oct 13 15:57 NC_007335.2.fasta\r\n",
      "-rw-r--r--  1 jmb  staff      4633 Oct 13 15:57 NC_007335.2.gbk\r\n",
      "-rw-r--r--  1 jmb  staff         0 Oct 13 16:09 NC_007335.2.trna\r\n",
      "-rw-r--r--  1 jmb  staff   1895877 Oct 13 15:57 NC_008819.1.fasta\r\n",
      "-rw-r--r--  1 jmb  staff      3022 Oct 13 15:57 NC_008819.1.gbk\r\n",
      "-rw-r--r--  1 jmb  staff         0 Oct 13 16:09 NC_008819.1.trna\r\n",
      "-rw-r--r--  1 jmb  staff   2406490 Oct 13 15:58 NC_009481.1.fasta\r\n",
      "-rw-r--r--  1 jmb  staff      2784 Oct 13 15:58 NC_009481.1.gbk\r\n",
      "-rw-r--r--  1 jmb  staff         0 Oct 13 16:09 NC_009481.1.trna\r\n",
      "-rw-r--r--  1 jmb  staff   1767839 Oct 13 15:57 NC_009840.1.fasta\r\n",
      "-rw-r--r--  1 jmb  staff      4715 Oct 13 15:57 NC_009840.1.gbk\r\n",
      "-rw-r--r--  1 jmb  staff         0 Oct 13 16:09 NC_009840.1.trna\r\n",
      "-rw-r--r--  1 jmb  staff   1306208 Oct 13 15:57 NC_015380.1.fasta\r\n",
      "-rw-r--r--  1 jmb  staff      3438 Oct 13 15:57 NC_015380.1.gbk\r\n",
      "-rw-r--r--  1 jmb  staff         0 Oct 13 16:09 NC_015380.1.trna\r\n",
      "-rw-r--r--  1 jmb  staff   4731480 Oct 13 15:58 NC_018632.1.fasta\r\n",
      "-rw-r--r--  1 jmb  staff      4333 Oct 13 15:58 NC_018632.1.gbk\r\n",
      "-rw-r--r--  1 jmb  staff         0 Oct 13 16:09 NC_018632.1.trna\r\n",
      "-rw-r--r--  1 jmb  staff   3568816 Oct 13 15:58 NC_019702.1.fasta\r\n",
      "-rw-r--r--  1 jmb  staff      6837 Oct 13 15:58 NC_019702.1.gbk\r\n",
      "-rw-r--r--  1 jmb  staff         0 Oct 13 16:09 NC_019702.1.trna\r\n",
      "-rw-r--r--  1 jmb  staff   1961419 Oct 13 15:57 NZ_CP007754.1.fasta\r\n",
      "-rw-r--r--  1 jmb  staff      3656 Oct 13 15:57 NZ_CP007754.1.gbk\r\n",
      "-rw-r--r--  1 jmb  staff         0 Oct 13 16:09 NZ_CP007754.1.trna\r\n",
      "-rw-r--r--  1 jmb  staff   4531833 Oct 13 15:58 NZ_CP010912.1.fasta\r\n",
      "-rw-r--r--  1 jmb  staff      3477 Oct 13 15:58 NZ_CP010912.1.gbk\r\n",
      "-rw-r--r--  1 jmb  staff         0 Oct 13 16:09 NZ_CP010912.1.trna\r\n",
      "-rw-r--r--@ 1 jmb  staff       181 Oct 13 15:51 marine_host_genome_accs.txt\r\n"
     ]
    }
   ],
   "source": [
    "%%R -i trna_files\n",
    "\n",
    "for (t in trna_files){\n",
    "    trna_file=paste(trna_file_path, phage, \".trna\",sep=\"\")\n",
    "    if (file.info(trna_file)$size>0 & file.exists(trna_file)){\n",
    "    trna<-read.table(paste(trna_file_path, phage, \".trna\",sep=\"\"), skip=3, header=FALSE,sep=\"\\t\")\n",
    "    trna%>%group_by(V6)%>%summarise(count=n())->trna\n",
    "    colnames(trna)[2]<-phage\n",
    "    codons<-merge(codons, trna, by=\"V6\", all.x=TRUE, all.y=TRUE)\n",
    "}}"
   ]
  },
  {
   "cell_type": "code",
   "execution_count": null,
   "metadata": {
    "collapsed": true
   },
   "outputs": [],
   "source": []
  }
 ],
 "metadata": {
  "kernelspec": {
   "display_name": "Python 2",
   "language": "python",
   "name": "python2"
  },
  "language_info": {
   "codemirror_mode": {
    "name": "ipython",
    "version": 2
   },
   "file_extension": ".py",
   "mimetype": "text/x-python",
   "name": "python",
   "nbconvert_exporter": "python",
   "pygments_lexer": "ipython2",
   "version": "2.7.10"
  }
 },
 "nbformat": 4,
 "nbformat_minor": 0
}
