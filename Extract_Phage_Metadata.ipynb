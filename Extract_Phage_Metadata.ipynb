{
 "cells": [
  {
   "cell_type": "code",
   "execution_count": 11,
   "metadata": {
    "collapsed": false
   },
   "outputs": [],
   "source": [
    "accs=[]\n",
    "for line in open(\"./vib.genomeinfo.txt\").readlines():\n",
    "    accs.append(line.split(\"\\t\")[0])\n",
    "for line in open(\"./myco.genomeinfo.txt\").readlines():\n",
    "    accs.append(line.split(\"\\t\")[0])"
   ]
  },
  {
   "cell_type": "code",
   "execution_count": 31,
   "metadata": {
    "collapsed": false
   },
   "outputs": [],
   "source": [
    "from Bio import SeqIO\n",
    "import re\n",
    "\n",
    "for phage in accs:\n",
    "    gbk=SeqIO.parse(\"./pgenomes/\"+phage+\".gbk\", \"genbank\")\n",
    "    for rec in gbk:\n",
    "        if \"host\" in str(rec.annotations.get(\"comments\")):\n",
    "            print(\"host present\")\n",
    "        else:\n",
    "            source=rec.annotations[\"source\"]\n",
    "            references=str(rec.annotations[\"references\"])\n",
    "            host_name=source.split(\" \")[0].replace(\"phage\",\"\")\n",
    "            if re.search(host_name+\"\\s[:alpha:]+\\s.+\", references):\n",
    "                 print(host_name)"
   ]
  },
  {
   "cell_type": "code",
   "execution_count": null,
   "metadata": {
    "collapsed": true
   },
   "outputs": [],
   "source": []
  },
  {
   "cell_type": "code",
   "execution_count": null,
   "metadata": {
    "collapsed": true
   },
   "outputs": [],
   "source": []
  }
 ],
 "metadata": {
  "kernelspec": {
   "display_name": "Python 2",
   "language": "python",
   "name": "python2"
  },
  "language_info": {
   "codemirror_mode": {
    "name": "ipython",
    "version": 2
   },
   "file_extension": ".py",
   "mimetype": "text/x-python",
   "name": "python",
   "nbconvert_exporter": "python",
   "pygments_lexer": "ipython2",
   "version": "2.7.10"
  }
 },
 "nbformat": 4,
 "nbformat_minor": 0
}
